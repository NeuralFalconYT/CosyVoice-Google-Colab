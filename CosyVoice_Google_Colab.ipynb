{
  "nbformat": 4,
  "nbformat_minor": 0,
  "metadata": {
    "colab": {
      "provenance": [],
      "gpuType": "T4"
    },
    "kernelspec": {
      "name": "python3",
      "display_name": "Python 3"
    },
    "language_info": {
      "name": "python"
    },
    "accelerator": "GPU"
  },
  "cells": [
    {
      "cell_type": "markdown",
      "source": [
        "\n",
        "# 🗣🎙️CosyVoice Zero-Shot Voice Cloning 🎙️\n",
        "### Credit\n",
        "[CosyVoice Github](https://github.com/FunAudioLLM/CosyVoice) <br>\n",
        "[Hugging Face Space](https://huggingface.co/spaces/modelscope/CosyVoice-300M) <br>\n",
        "[CosyVoice-300M Model Download](https://www.modelscope.cn/models/iic/CosyVoice-300M)\n",
        "<br>"
      ],
      "metadata": {
        "id": "jXyK8In8Mkx3"
      }
    },
    {
      "cell_type": "code",
      "source": [
        "#@title Automatic Install CosyVoice, Download Model & AUTO-RESTART (Cancel ```Restart Runtime``` Pop UP)\n",
        "import os\n",
        "import shutil\n",
        "!pip install modelscope\n",
        "\n",
        "# root_path=\".\" #for windows/kaggle/mac\n",
        "# root_path=os.getcwd() #else use this one\n",
        "root_path=\"/content\" #if you are not running this on google colab comment this\n",
        "\n",
        "base_path=f\"{root_path}\"\n",
        "os.chdir(base_path)\n",
        "if os.path.exists(f\"{base_path}/CosyVoice\"):\n",
        "  shutil.rmtree(f\"{base_path}/CosyVoice\")\n",
        "  print(f\"Deleting Old {base_path}/CosyVoice\")\n",
        "!git clone --recursive https://github.com/FunAudioLLM/CosyVoice.git\n",
        "os.chdir(f\"{base_path}/CosyVoice\")\n",
        "\n",
        "#Downloading Model using git clone is very slow\n",
        "# !git clone https://www.modelscope.cn/iic/CosyVoice-300M.git pretrained_models/CosyVoice-300M\n",
        "from modelscope import snapshot_download\n",
        "snapshot_download('iic/CosyVoice-300M', local_dir=f'{base_path}/CosyVoice/pretrained_models/CosyVoice-300M')\n",
        "\n",
        "!pip install -r requirements.txt\n",
        "!pip install matcha-tts\n",
        "!echo /usr/lib64-nvidia/ >/etc/ld.so.conf.d/libcuda.conf; ldconfig\n",
        "from IPython.display import clear_output\n",
        "clear_output()\n",
        "import time\n",
        "time.sleep(5)\n",
        "import os\n",
        "os.kill(os.getpid(), 9)"
      ],
      "metadata": {
        "cellView": "form",
        "id": "Tbe0ajGk8YVL"
      },
      "execution_count": null,
      "outputs": []
    },
    {
      "cell_type": "markdown",
      "source": [
        "Don't panic if Google Colab got disconnected run from the next cell"
      ],
      "metadata": {
        "id": "kywincMsOAPt"
      }
    },
    {
      "cell_type": "code",
      "source": [
        "#@title <-- Tap this if you play on Mobile { display-mode: \"form\" }\n",
        "\n",
        "%%html\n",
        "<b>Press play on the music player to keep the tab alive, then run the cell below</b><br/>\n",
        "<audio src=\"https://raw.githubusercontent.com/KoboldAI/KoboldAI-Client/main/colab/silence.m4a\" controls>"
      ],
      "metadata": {
        "id": "G9TSrudROE2O"
      },
      "execution_count": null,
      "outputs": []
    },
    {
      "cell_type": "code",
      "source": [
        "#@title import CosyVoice model\n",
        "%cd /content/CosyVoice\n",
        "from cosyvoice.cli.cosyvoice import CosyVoice\n",
        "from cosyvoice.utils.file_utils import load_wav\n",
        "import torchaudio\n",
        "\n",
        "cosyvoice = CosyVoice('/content/CosyVoice/pretrained_models/CosyVoice-300M')\n",
        "from IPython.display import clear_output\n",
        "clear_output()\n",
        "#@title utils\n",
        "import librosa\n",
        "import whisper\n",
        "from pydub import AudioSegment\n",
        "import os\n",
        "import random\n",
        "import numpy as np\n",
        "import uuid\n",
        "import torch\n",
        "import shutil\n",
        "from google.colab import files\n",
        "\n",
        "import nltk\n",
        "nltk.download('punkt')\n",
        "from nltk.tokenize import sent_tokenize\n",
        "from IPython.display import Audio\n",
        "from IPython.core.display import display\n",
        "from tqdm.notebook import tqdm\n",
        "\n",
        "select_model =\"tiny\" # ['tiny', 'base']\n",
        "whisper_model = whisper.load_model(select_model)\n",
        "language_dict = {\n",
        "    \"Chinese\": \"zh\",\n",
        "    \"English\": \"en\",\n",
        "    \"Japanese\": \"ja\",\n",
        "    \"Cantonese\": \"yue\",\n",
        "    \"Korean\": \"ko\"\n",
        "}\n",
        "def convert_to_wav(file_path):\n",
        "    # Check if the file is already a WAV file\n",
        "    if file_path.lower().endswith('.wav'):\n",
        "        # print(f\"{file_path} is already a WAV file.\")\n",
        "        return file_path\n",
        "\n",
        "    # Define the output file path with .wav extension\n",
        "    output_file_path = os.path.splitext(file_path)[0] + '.wav'\n",
        "\n",
        "    # Convert the file to WAV format\n",
        "    audio = AudioSegment.from_file(file_path)\n",
        "    audio.export(output_file_path, format='wav')\n",
        "    # print(f\"Converted {file_path} to {output_file_path}.\")\n",
        "\n",
        "    return output_file_path\n",
        "\n",
        "def set_all_random_seed(seed):\n",
        "    random.seed(seed)\n",
        "    np.random.seed(seed)\n",
        "    torch.manual_seed(seed)\n",
        "    torch.cuda.manual_seed_all(seed)\n",
        "\n",
        "def postprocess(wav_file_path, Language,audio_to_text=False,top_db=60, hop_length=220, win_length=440):\n",
        "    global language_dict\n",
        "    max_val = 0.8\n",
        "    prompt_sr, target_sr = 16000, 22050\n",
        "    default_data = np.zeros(target_sr)\n",
        "    if torchaudio.info(wav_file_path).sample_rate < prompt_sr:\n",
        "      prompt_sr=target_sr\n",
        "    speech=load_wav(wav_file_path, prompt_sr)\n",
        "    speech, _ = librosa.effects.trim(\n",
        "        speech, top_db=top_db,\n",
        "        frame_length=win_length,\n",
        "        hop_length=hop_length\n",
        "    )\n",
        "    if speech.abs().max() > max_val:\n",
        "        speech = speech / speech.abs().max() * max_val\n",
        "    speech = torch.concat([speech, torch.zeros(1, int(target_sr * 0.2))], dim=1)\n",
        "    #extract text\n",
        "    if audio_to_text:\n",
        "      result = whisper_model.transcribe(wav_file_path,language=language_dict[Language])\n",
        "      prompt_text=result[\"text\"].strip()\n",
        "    else:\n",
        "      prompt_text=\"\"\n",
        "    print(f\"Reference Audio Text:\\n{prompt_text}\")\n",
        "    return speech,prompt_text\n",
        "from pydub import AudioSegment\n",
        "\n",
        "def merge_audio(audio_chunks_list, save_path):\n",
        "    # Initialize an empty AudioSegment object for the final output\n",
        "    merged_audio = AudioSegment.empty()\n",
        "\n",
        "    # Loop through the list of audio file paths\n",
        "    for audio_path in audio_chunks_list:\n",
        "        # Load each audio file\n",
        "        audio = AudioSegment.from_file(audio_path)\n",
        "        # Append the audio to the merged_audio object\n",
        "        merged_audio += audio\n",
        "\n",
        "    # Export the merged audio to the specified path in WAV format\n",
        "    merged_audio.export(save_path, format=\"wav\")\n",
        "\n",
        "\n",
        "def chunks_sentences(paragraph, join_limit=2):\n",
        "    sentences = sent_tokenize(paragraph)\n",
        "    # Initialize an empty list to store the new sentences\n",
        "    new_sentences = []\n",
        "\n",
        "    # Iterate through the list of sentences in steps of 'join_limit'\n",
        "    for i in range(0, len(sentences), join_limit):\n",
        "        # Join the sentences with a space between them\n",
        "        new_sentence = ' '.join(sentences[i:i + join_limit])\n",
        "        new_sentences.append(new_sentence)\n",
        "\n",
        "    return new_sentences\n",
        "\n",
        "def speed_change(clone_voice_save_path,speedup_factor):\n",
        "  speedup_filename=clone_voice_save_path.replace(\".wav\",\"_speed_up.wav\")\n",
        "  speed_change_command=f\"ffmpeg -i {clone_voice_save_path} -filter:a atempo={speedup_factor} {speedup_filename} -y\"\n",
        "  var=os.system(speed_change_command)\n",
        "  if var==0:\n",
        "    return speedup_filename\n",
        "  else:\n",
        "    print(speed_change_command)\n",
        "    return None\n",
        "\n",
        "\n",
        "def voice_clone(text,reference_audio_file,Language=\"English\",clone_method=\"3s Quick Clone\",seed=0,save_folder=\".\"):\n",
        "  global language_dict\n",
        "  if save_folder.endswith(\"/\"):\n",
        "    save_folder=save_folder[:-1]\n",
        "  if not os.path.exists(save_folder):\n",
        "    os.mkdir(save_folder)\n",
        "  small_sentences=chunks_sentences(text)\n",
        "  #may be I am wrong\n",
        "  seed=seed+len(small_sentences)\n",
        "  set_all_random_seed(seed)\n",
        "  wav_file_path=convert_to_wav(reference_audio_file)\n",
        "\n",
        "\n",
        "  if 'COLAB_GPU' in os.environ:\n",
        "    tts_save_folder=\"/content/cosy_tts\"\n",
        "  else:\n",
        "    tts_save_folder=\"./cosy_tts\"\n",
        "  if os.path.exists(tts_save_folder):\n",
        "    shutil.rmtree(tts_save_folder)\n",
        "  os.mkdir(tts_save_folder)\n",
        "  if clone_method==\"3s Quick Clone\":\n",
        "    prompt_speech_16k,prompt_text = postprocess(wav_file_path,Language,audio_to_text=True)\n",
        "  else:\n",
        "    prompt_speech_16k,prompt_text = postprocess(wav_file_path,Language,audio_to_text=False)\n",
        "  audio_chunks_list=[]\n",
        "  for index, tts_text in tqdm(enumerate(small_sentences), total=len(small_sentences)):\n",
        "  # for index, tts_text in enumerate(small_sentences):\n",
        "    if clone_method==\"3s Quick Clone\":\n",
        "      output = cosyvoice.inference_zero_shot(tts_text, prompt_text, prompt_speech_16k)\n",
        "    else:\n",
        "      tts_text=f\"<|{language_dict['English']}|> {tts_text}\"\n",
        "      output = cosyvoice.inference_cross_lingual(tts_text, prompt_speech_16k)\n",
        "    temp_file_path=f\"{tts_save_folder}/{index}.wav\"\n",
        "    torchaudio.save(temp_file_path, output['tts_speech'], 22050)\n",
        "    audio_chunks_list.append(temp_file_path)\n",
        "  file_name=text[:20].replace(\" \",\"_\")\n",
        "  file_name=file_name.replace(\"<|\",\"\").replace(\"|>\",\"\")\n",
        "  random_uuid = str(uuid.uuid4())[:6]\n",
        "  save_clone_voice_path=f\"{save_folder}/{file_name}_{random_uuid}.wav\"\n",
        "  if len(audio_chunks_list)==0:\n",
        "    return None\n",
        "  elif len(audio_chunks_list)==1:\n",
        "    shutil.copy(audio_chunks_list[-1],save_clone_voice_path)\n",
        "    return save_clone_voice_path\n",
        "  else:\n",
        "    merge_audio(audio_chunks_list, save_clone_voice_path)\n",
        "    return save_clone_voice_path\n",
        "\n",
        "from IPython.display import clear_output\n",
        "clear_output()"
      ],
      "metadata": {
        "cellView": "form",
        "id": "gd-iStfn-KfN"
      },
      "execution_count": null,
      "outputs": []
    },
    {
      "cell_type": "markdown",
      "source": [
        "[Online Audio Cutter](https://mp3cut.net/) &emsp;If you have a larger Audio<br>\n",
        "[Vocal & Music Seperator](https://vocalremover.org/)&emsp;If you have a audio with background Music<br>\n",
        "[Enhance low quality audio](https://podcast.adobe.com/)&emsp;If your audio file have poor audio quality"
      ],
      "metadata": {
        "id": "JT3iSIjTDbNW"
      }
    },
    {
      "cell_type": "code",
      "source": [
        "#@title Upload 6s Audio clip\n",
        "import os\n",
        "from google.colab import files\n",
        "%cd /content/\n",
        "uploaded = files.upload()\n",
        "%cd /content/CosyVoice/\n",
        "upload_list=[]\n",
        "for fn in uploaded.keys():\n",
        "  upload_list.append('/content/'+fn)\n",
        "from IPython.display import clear_output\n",
        "clear_output()\n",
        "upload_list[-1]"
      ],
      "metadata": {
        "id": "0owntuDcYXxf",
        "cellView": "form"
      },
      "execution_count": null,
      "outputs": []
    },
    {
      "cell_type": "code",
      "source": [
        "#@title Run CosyVoice for voice cloning (Support Long Text)\n",
        "text=\"This is Cosy Voice Google Colab Demo\"# @param {type: \"string\"}\n",
        "Reference_Audio_File=\"/content/audio.wav\"# @param {type: \"string\"}\n",
        "Language = \"English\" # @param [ 'English','Chinese', 'Japanese', 'Cantonese', 'Korean'] {allow-input: true}\n",
        "Clone_Method = \"3s Quick Clone\" # @param [\"3s Quick Clone\", \"Cross-lingual Clone\"] {allow-input: true}\n",
        "\n",
        "Seed=0 # @param {type: \"number\"}\n",
        "# save_folder=\"/content/clone_voice\" # @param {type: \"string\"}\n",
        "save_folder=\"/content/clone_voice\"\n",
        "clone_voice_save_path=voice_clone(text,Reference_Audio_File,Language,Clone_Method,Seed,save_folder)\n"
      ],
      "metadata": {
        "id": "kpvoUpiplGcS",
        "cellView": "form"
      },
      "execution_count": null,
      "outputs": []
    },
    {
      "cell_type": "code",
      "source": [
        "#@title Display Original & Cloned Voice\n",
        "from pydub import AudioSegment\n",
        "\n",
        "def audio_duration_check(file_path):\n",
        "    audio = AudioSegment.from_file(file_path)\n",
        "    duration_ms = len(audio)  # Duration in milliseconds\n",
        "    duration_s = duration_ms / 1000  # Convert to seconds\n",
        "    return duration_s <= 240  # 4 minutes in seconds\n",
        "\n",
        "print(f\"Original Audio File:\")\n",
        "if audio_duration_check(Reference_Audio_File):\n",
        "  display(Audio(Reference_Audio_File, autoplay=False))\n",
        "else:\n",
        "  print(\"Audio File is larger please download the audio in your local device\")\n",
        "  print(f\"Save at {Reference_Audio_File}\")\n",
        "\n",
        "print(f\"Cloned Audio File:\")\n",
        "if audio_duration_check(clone_voice_save_path):\n",
        "  display(Audio(clone_voice_save_path, autoplay=False))\n",
        "else:\n",
        "  print(\"Audio File is larger please download the audio in your local device\")\n",
        "  print(f\"Save at {clone_voice_save_path}\")\n",
        "  files.download(clone_voice_save_path)\n"
      ],
      "metadata": {
        "cellView": "form",
        "id": "Sr8uaoNUEvuZ"
      },
      "execution_count": null,
      "outputs": []
    },
    {
      "cell_type": "code",
      "source": [
        "#@title Download Cloned Voice\n",
        "from google.colab import files\n",
        "print(f\"Save at {clone_voice_save_path}\")\n",
        "files.download(clone_voice_save_path)"
      ],
      "metadata": {
        "colab": {
          "base_uri": "https://localhost:8080/",
          "height": 34
        },
        "cellView": "form",
        "id": "J9zbZgsh-UFm",
        "outputId": "e7e74fe9-b532-40ee-d76d-ab052c1d0d11"
      },
      "execution_count": null,
      "outputs": [
        {
          "output_type": "stream",
          "name": "stdout",
          "text": [
            "Save at /content/clone_voice/In_this_video_I'll_s_76c911.wav\n"
          ]
        },
        {
          "output_type": "display_data",
          "data": {
            "text/plain": [
              "<IPython.core.display.Javascript object>"
            ],
            "application/javascript": [
              "\n",
              "    async function download(id, filename, size) {\n",
              "      if (!google.colab.kernel.accessAllowed) {\n",
              "        return;\n",
              "      }\n",
              "      const div = document.createElement('div');\n",
              "      const label = document.createElement('label');\n",
              "      label.textContent = `Downloading \"${filename}\": `;\n",
              "      div.appendChild(label);\n",
              "      const progress = document.createElement('progress');\n",
              "      progress.max = size;\n",
              "      div.appendChild(progress);\n",
              "      document.body.appendChild(div);\n",
              "\n",
              "      const buffers = [];\n",
              "      let downloaded = 0;\n",
              "\n",
              "      const channel = await google.colab.kernel.comms.open(id);\n",
              "      // Send a message to notify the kernel that we're ready.\n",
              "      channel.send({})\n",
              "\n",
              "      for await (const message of channel.messages) {\n",
              "        // Send a message to notify the kernel that we're ready.\n",
              "        channel.send({})\n",
              "        if (message.buffers) {\n",
              "          for (const buffer of message.buffers) {\n",
              "            buffers.push(buffer);\n",
              "            downloaded += buffer.byteLength;\n",
              "            progress.value = downloaded;\n",
              "          }\n",
              "        }\n",
              "      }\n",
              "      const blob = new Blob(buffers, {type: 'application/binary'});\n",
              "      const a = document.createElement('a');\n",
              "      a.href = window.URL.createObjectURL(blob);\n",
              "      a.download = filename;\n",
              "      div.appendChild(a);\n",
              "      a.click();\n",
              "      div.remove();\n",
              "    }\n",
              "  "
            ]
          },
          "metadata": {}
        },
        {
          "output_type": "display_data",
          "data": {
            "text/plain": [
              "<IPython.core.display.Javascript object>"
            ],
            "application/javascript": [
              "download(\"download_34f717cd-ae09-4490-a658-bef097a7b06d\", \"In_this_video_I'll_s_76c911.wav\", 290894)"
            ]
          },
          "metadata": {}
        }
      ]
    },
    {
      "cell_type": "markdown",
      "source": [
        "## Change Audio Speed"
      ],
      "metadata": {
        "id": "8uOAsmF8LYDV"
      }
    },
    {
      "cell_type": "code",
      "source": [
        "#@title Change the audio speed to achieve your desired voice\n",
        "speed=\"0.9\"  # @param {type: \"string\"}\n",
        "speedup_factor=float(speed)\n",
        "speed_change_file=speed_change(clone_voice_save_path,speedup_factor)\n",
        "\n",
        "print(f\"Cloned Audio File:\")\n",
        "if audio_duration_check(clone_voice_save_path):\n",
        "  display(Audio(clone_voice_save_path, autoplay=False))\n",
        "else:\n",
        "  print(\"Audio File is larger please download the audio in your local device\")\n",
        "  print(f\"Save at {clone_voice_save_path}\")\n",
        "  files.download(clone_voice_save_path)\n",
        "\n",
        "print(f\"Cloned Audio File After Speed Change:\")\n",
        "if audio_duration_check(speed_change_file):\n",
        "  display(Audio(speed_change_file, autoplay=False))\n",
        "else:\n",
        "  print(\"Audio File is larger please download the audio in your local device\")\n",
        "  print(f\"Save at {speed_change_file}\")\n",
        "  files.download(speed_change_file)"
      ],
      "metadata": {
        "cellView": "form",
        "id": "kPzHCY3oGILN"
      },
      "execution_count": null,
      "outputs": []
    },
    {
      "cell_type": "code",
      "source": [
        "#@title Download the speed-changed cloned voice\n",
        "from google.colab import files\n",
        "print(f\"Save at {clone_voice_save_path}\")\n",
        "files.download(clone_voice_save_path)"
      ],
      "metadata": {
        "cellView": "form",
        "id": "lsH1PGAlIh0E"
      },
      "execution_count": null,
      "outputs": []
    },
    {
      "cell_type": "code",
      "source": [],
      "metadata": {
        "id": "Jm4Aiau-KbC2"
      },
      "execution_count": null,
      "outputs": []
    },
    {
      "cell_type": "code",
      "source": [
        "#@title Use as funtion\n",
        "\n",
        "# voice_clone(text=\"hi how are you \",reference_audio_file='/content/audio.wav',Language='English',clone_method=\"3s Quick Clone\",seed=0,save_folder=\"/content/clone_voice\")"
      ],
      "metadata": {
        "cellView": "form",
        "id": "DJKmsIoo9bkd"
      },
      "execution_count": null,
      "outputs": []
    }
  ]
}